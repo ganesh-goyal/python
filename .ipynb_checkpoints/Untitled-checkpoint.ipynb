{
 "cells": [
  {
   "cell_type": "code",
   "execution_count": null,
   "metadata": {},
   "outputs": [],
   "source": [
    "result  =  \" \"\n",
    "message =  \" \"\n",
    "choice  =  \" \""
   ]
  },
  {
   "cell_type": "code",
   "execution_count": null,
   "metadata": {},
   "outputs": [],
   "source": [
    "while choice !=-1:\n",
    "    choice = input(\"enter the mesage to encrypt or decrypt?\\n enter 1 to encrypt ,enter 2 to decrpyt and ,-1 to exit progam\")\n",
    "    if choice == '1':\n",
    "        message = input(\"enter the mesage to encrypt: \")\n",
    "        \n",
    "        for i  in range(0,len(message)):\n",
    "            result = result + chr(ord(message[i])-2)\n",
    "        print(result + '\\n\\n')\n",
    "        result = \" \"\n",
    "        "
   ]
  },
  {
   "cell_type": "code",
   "execution_count": null,
   "metadata": {},
   "outputs": [],
   "source": []
  }
 ],
 "metadata": {
  "kernelspec": {
   "display_name": "Python 3",
   "language": "python",
   "name": "python3"
  },
  "language_info": {
   "codemirror_mode": {
    "name": "ipython",
    "version": 3
   },
   "file_extension": ".py",
   "mimetype": "text/x-python",
   "name": "python",
   "nbconvert_exporter": "python",
   "pygments_lexer": "ipython3",
   "version": "3.6.5"
  }
 },
 "nbformat": 4,
 "nbformat_minor": 2
}
